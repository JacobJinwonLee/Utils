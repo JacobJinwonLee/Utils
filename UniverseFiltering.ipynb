{
 "cells": [
  {
   "cell_type": "code",
   "execution_count": 1,
   "metadata": {},
   "outputs": [
    {
     "name": "stderr",
     "output_type": "stream",
     "text": [
      "C:\\ProgramData\\Anaconda3\\lib\\site-packages\\pyfolio\\pos.py:27: UserWarning: Module \"zipline.assets\" not found; mutltipliers will not be applied to position notionals.\n",
      "  'Module \"zipline.assets\" not found; mutltipliers will not be applied' +\n"
     ]
    }
   ],
   "source": [
    "import pandas as pd\n",
    "import pandas_datareader.data as web\n",
    "import datetime\n",
    "import backtrader as bt\n",
    "import numpy as np\n",
    "%matplotlib inline\n",
    "import matplotlib.pyplot as plt\n",
    "import pyfolio as pf\n",
    "import quantstats\n",
    "plt.rcParams[\"figure.figsize\"] = (10, 6) # (w, h)\n",
    "import sys\n",
    "import time\n",
    "import sqlite3\n",
    "from scipy.stats import rankdata\n",
    "from scipy.stats import stats\n",
    "from scipy.optimize import minimize"
   ]
  },
  {
   "cell_type": "markdown",
   "metadata": {},
   "source": [
    "만들어 두었던 미국 상장 ETF 가격 데이터 DB에서 ticker 목록을 가져옵니다. 필터링 예시로는 거래량과 거래된 기간을(ETF의 연령) 들 수 있습니다. 거래 체결을 위해서는 적절한 수준의 유동성이 보장되어야 합니다. 최근 50일 평균 거래량이(volume) 5만 주 이상인 것들로 제한하겠습니다. 또한, 상장 후 5년(1260 거래일) 이상 된 ETF들로 구성하겠습니다."
   ]
  },
  {
   "cell_type": "code",
   "execution_count": 2,
   "metadata": {},
   "outputs": [],
   "source": [
    "con = sqlite3.connect('USListedETFPrice.db')\n",
    "ticker = pd.read_sql(\"select name from sqlite_master where type = 'table'; \", con)"
   ]
  },
  {
   "cell_type": "code",
   "execution_count": 3,
   "metadata": {},
   "outputs": [],
   "source": [
    "def UniverseFilter(ticker):\n",
    "    \n",
    "    volume_list = []\n",
    "    \n",
    "    for i in range(len(ticker)):\n",
    "        temp_df = pd.read_sql(\"select volume from '\"+str(ticker.iloc[i,0])+\"'\", con)\n",
    "        avg = np.mean(temp_df['Volume'][-50:])\n",
    "        volume_list.append(avg)\n",
    "        \n",
    "    ticker['volume'] = volume_list\n",
    "    ticker_liquid = ticker[ticker['volume']>=50000]\n",
    "    ticker_liquid = ticker_liquid.reset_index(drop=True)\n",
    "    \n",
    "    age_list = []\n",
    "    \n",
    "    for i in range(len(ticker_liquid)):\n",
    "        temp_age = pd.read_sql(\"select count(*) from '\"+str(ticker_liquid.iloc[i,0])+\"'\", con)\n",
    "        age = temp_age.iloc[0,0]\n",
    "        age_list.append(age)\n",
    "    \n",
    "    ticker_liquid['age'] = age_list\n",
    "    ticker_final = ticker_liquid[ticker_liquid['age']>=1260]\n",
    "    ticker_final = ticker_final.reset_index(drop=True)\n",
    "\n",
    "    return ticker_final"
   ]
  },
  {
   "cell_type": "code",
   "execution_count": 4,
   "metadata": {},
   "outputs": [
    {
     "data": {
      "text/html": [
       "<div>\n",
       "<style scoped>\n",
       "    .dataframe tbody tr th:only-of-type {\n",
       "        vertical-align: middle;\n",
       "    }\n",
       "\n",
       "    .dataframe tbody tr th {\n",
       "        vertical-align: top;\n",
       "    }\n",
       "\n",
       "    .dataframe thead th {\n",
       "        text-align: right;\n",
       "    }\n",
       "</style>\n",
       "<table border=\"1\" class=\"dataframe\">\n",
       "  <thead>\n",
       "    <tr style=\"text-align: right;\">\n",
       "      <th></th>\n",
       "      <th>name</th>\n",
       "      <th>volume</th>\n",
       "      <th>age</th>\n",
       "    </tr>\n",
       "  </thead>\n",
       "  <tbody>\n",
       "    <tr>\n",
       "      <th>0</th>\n",
       "      <td>AAXJ</td>\n",
       "      <td>1187052.0</td>\n",
       "      <td>3150</td>\n",
       "    </tr>\n",
       "    <tr>\n",
       "      <th>1</th>\n",
       "      <td>ACWI</td>\n",
       "      <td>3494860.0</td>\n",
       "      <td>3248</td>\n",
       "    </tr>\n",
       "    <tr>\n",
       "      <th>2</th>\n",
       "      <td>ACWX</td>\n",
       "      <td>1182516.0</td>\n",
       "      <td>3246</td>\n",
       "    </tr>\n",
       "    <tr>\n",
       "      <th>3</th>\n",
       "      <td>AIA</td>\n",
       "      <td>299882.0</td>\n",
       "      <td>3335</td>\n",
       "    </tr>\n",
       "    <tr>\n",
       "      <th>4</th>\n",
       "      <td>ANGL</td>\n",
       "      <td>1882164.0</td>\n",
       "      <td>2230</td>\n",
       "    </tr>\n",
       "    <tr>\n",
       "      <th>...</th>\n",
       "      <td>...</td>\n",
       "      <td>...</td>\n",
       "      <td>...</td>\n",
       "    </tr>\n",
       "    <tr>\n",
       "      <th>712</th>\n",
       "      <td>XTN</td>\n",
       "      <td>98256.0</td>\n",
       "      <td>2533</td>\n",
       "    </tr>\n",
       "    <tr>\n",
       "      <th>713</th>\n",
       "      <td>YANG</td>\n",
       "      <td>384642.0</td>\n",
       "      <td>2822</td>\n",
       "    </tr>\n",
       "    <tr>\n",
       "      <th>714</th>\n",
       "      <td>YINN</td>\n",
       "      <td>1487910.0</td>\n",
       "      <td>2822</td>\n",
       "    </tr>\n",
       "    <tr>\n",
       "      <th>715</th>\n",
       "      <td>YYY</td>\n",
       "      <td>147868.0</td>\n",
       "      <td>2187</td>\n",
       "    </tr>\n",
       "    <tr>\n",
       "      <th>716</th>\n",
       "      <td>ZSL</td>\n",
       "      <td>1799358.0</td>\n",
       "      <td>3074</td>\n",
       "    </tr>\n",
       "  </tbody>\n",
       "</table>\n",
       "<p>717 rows × 3 columns</p>\n",
       "</div>"
      ],
      "text/plain": [
       "     name     volume   age\n",
       "0    AAXJ  1187052.0  3150\n",
       "1    ACWI  3494860.0  3248\n",
       "2    ACWX  1182516.0  3246\n",
       "3     AIA   299882.0  3335\n",
       "4    ANGL  1882164.0  2230\n",
       "..    ...        ...   ...\n",
       "712   XTN    98256.0  2533\n",
       "713  YANG   384642.0  2822\n",
       "714  YINN  1487910.0  2822\n",
       "715   YYY   147868.0  2187\n",
       "716   ZSL  1799358.0  3074\n",
       "\n",
       "[717 rows x 3 columns]"
      ]
     },
     "execution_count": 4,
     "metadata": {},
     "output_type": "execute_result"
    }
   ],
   "source": [
    "UniverseFilter(ticker)"
   ]
  },
  {
   "cell_type": "code",
   "execution_count": null,
   "metadata": {},
   "outputs": [],
   "source": [
    "temp = UniverseFilter(ticker)\n",
    "temp.to_excel('UniverseFilter.xlsx')"
   ]
  }
 ],
 "metadata": {
  "kernelspec": {
   "display_name": "Python 3",
   "language": "python",
   "name": "python3"
  },
  "language_info": {
   "codemirror_mode": {
    "name": "ipython",
    "version": 3
   },
   "file_extension": ".py",
   "mimetype": "text/x-python",
   "name": "python",
   "nbconvert_exporter": "python",
   "pygments_lexer": "ipython3",
   "version": "3.7.6"
  }
 },
 "nbformat": 4,
 "nbformat_minor": 4
}
